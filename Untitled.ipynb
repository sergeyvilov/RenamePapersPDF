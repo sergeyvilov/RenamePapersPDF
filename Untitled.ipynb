{
 "cells": [
  {
   "cell_type": "code",
   "execution_count": 1,
   "metadata": {},
   "outputs": [],
   "source": [
    "import torch \n",
    "import torch.nn as nn \n",
    "from torch.autograd import Variable \n",
    "random_tensor = Variable(torch.randn(1, 1, 5, 5)) \n",
    "upsample_tnsr = nn.ConvTranspose2d(in_channels = 1, out_channels = 1, kernel_size = 3, stride = 1, padding = 0)"
   ]
  },
  {
   "cell_type": "code",
   "execution_count": 4,
   "metadata": {},
   "outputs": [
    {
     "data": {
      "text/plain": [
       "tensor([[[[ 0.0090, -0.0112, -0.0070,  0.0987,  0.0638,  0.0587,  0.0287],\n",
       "          [ 0.2212, -0.0067, -0.0940, -0.3628, -0.1788, -0.1168,  0.0203],\n",
       "          [-0.3275, -0.1116, -0.4599,  0.0058,  0.1781,  0.5160,  0.3086],\n",
       "          [ 0.5952,  0.1973,  0.4251,  0.4229,  0.0062,  0.6229,  0.0298],\n",
       "          [-0.4784,  0.1556, -0.6283, -0.5445, -0.3496, -0.5727,  0.1845],\n",
       "          [ 0.1909,  0.3108,  0.3314,  0.6106,  0.1213,  0.0258,  0.4290],\n",
       "          [-0.1371,  0.0915, -0.1474,  0.1758, -0.1681,  0.1298,  0.0580]]]],\n",
       "       grad_fn=<SlowConvTranspose2DBackward>)"
      ]
     },
     "execution_count": 4,
     "metadata": {},
     "output_type": "execute_result"
    }
   ],
   "source": [
    "upsample_tnsr(random_tensor)"
   ]
  },
  {
   "cell_type": "code",
   "execution_count": 3,
   "metadata": {},
   "outputs": [
    {
     "data": {
      "text/plain": [
       "tensor([[[[ 0.4458, -0.0767,  0.0887, -0.1893,  0.2418],\n",
       "          [-0.0065,  0.5488,  0.9438,  0.3846,  0.4688],\n",
       "          [ 1.7347,  0.9695,  1.0338,  0.1200, -1.1866],\n",
       "          [ 0.3107,  0.2477,  0.2758, -1.3731, -1.3060],\n",
       "          [ 0.6621,  0.5742,  0.6920, -0.1322,  0.0653]]]])"
      ]
     },
     "execution_count": 3,
     "metadata": {},
     "output_type": "execute_result"
    }
   ],
   "source": [
    "random_tensor"
   ]
  },
  {
   "cell_type": "code",
   "execution_count": 7,
   "metadata": {},
   "outputs": [
    {
     "data": {
      "text/plain": [
       "array([[[1., 1., 1., 1.],\n",
       "        [1., 1., 1., 1.],\n",
       "        [1., 1., 1., 1.]],\n",
       "\n",
       "       [[1., 1., 1., 1.],\n",
       "        [1., 1., 1., 1.],\n",
       "        [1., 1., 1., 1.]]])"
      ]
     },
     "execution_count": 7,
     "metadata": {},
     "output_type": "execute_result"
    }
   ],
   "source": [
    "import numpy as np\n",
    "\n",
    "np.transpose(np.ones((2,3,4)),(0,1,2))"
   ]
  },
  {
   "cell_type": "code",
   "execution_count": null,
   "metadata": {},
   "outputs": [],
   "source": []
  }
 ],
 "metadata": {
  "kernelspec": {
   "display_name": "Python 3",
   "language": "python",
   "name": "python3"
  },
  "language_info": {
   "codemirror_mode": {
    "name": "ipython",
    "version": 3
   },
   "file_extension": ".py",
   "mimetype": "text/x-python",
   "name": "python",
   "nbconvert_exporter": "python",
   "pygments_lexer": "ipython3",
   "version": "3.9.1"
  }
 },
 "nbformat": 4,
 "nbformat_minor": 4
}
